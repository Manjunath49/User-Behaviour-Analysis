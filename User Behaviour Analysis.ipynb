{
 "cells": [
  {
   "cell_type": "code",
   "execution_count": 1,
   "id": "c7757f0d-9c39-4ba8-a8cc-a29f31b832f8",
   "metadata": {},
   "outputs": [],
   "source": [
    "import pandas as pd\n",
    "import warnings\n",
    "warnings.filterwarnings('ignore')"
   ]
  },
  {
   "cell_type": "code",
   "execution_count": 2,
   "id": "385b9e1b-6902-49de-99bd-4081919c3040",
   "metadata": {},
   "outputs": [
    {
     "data": {
      "text/html": [
       "<div>\n",
       "<style scoped>\n",
       "    .dataframe tbody tr th:only-of-type {\n",
       "        vertical-align: middle;\n",
       "    }\n",
       "\n",
       "    .dataframe tbody tr th {\n",
       "        vertical-align: top;\n",
       "    }\n",
       "\n",
       "    .dataframe thead th {\n",
       "        text-align: right;\n",
       "    }\n",
       "</style>\n",
       "<table border=\"1\" class=\"dataframe\">\n",
       "  <thead>\n",
       "    <tr style=\"text-align: right;\">\n",
       "      <th></th>\n",
       "      <th>User ID</th>\n",
       "      <th>User Name</th>\n",
       "      <th>Age</th>\n",
       "      <th>Location</th>\n",
       "      <th>Registration Date</th>\n",
       "      <th>Phone</th>\n",
       "      <th>Email</th>\n",
       "      <th>Favorite Meal</th>\n",
       "      <th>Total Orders</th>\n",
       "    </tr>\n",
       "  </thead>\n",
       "  <tbody>\n",
       "    <tr>\n",
       "      <th>0</th>\n",
       "      <td>U001</td>\n",
       "      <td>Alice Johnson</td>\n",
       "      <td>28</td>\n",
       "      <td>New York</td>\n",
       "      <td>2023-01-15</td>\n",
       "      <td>123-456-7890</td>\n",
       "      <td>alice@email.com</td>\n",
       "      <td>Dinner</td>\n",
       "      <td>12</td>\n",
       "    </tr>\n",
       "    <tr>\n",
       "      <th>1</th>\n",
       "      <td>U002</td>\n",
       "      <td>Bob Smith</td>\n",
       "      <td>35</td>\n",
       "      <td>Los Angeles</td>\n",
       "      <td>2023-02-20</td>\n",
       "      <td>987-654-3210</td>\n",
       "      <td>bob@email.com</td>\n",
       "      <td>Lunch</td>\n",
       "      <td>8</td>\n",
       "    </tr>\n",
       "    <tr>\n",
       "      <th>2</th>\n",
       "      <td>U003</td>\n",
       "      <td>Charlie Lee</td>\n",
       "      <td>42</td>\n",
       "      <td>Chicago</td>\n",
       "      <td>2023-03-10</td>\n",
       "      <td>555-123-4567</td>\n",
       "      <td>charlie@email.com</td>\n",
       "      <td>Breakfast</td>\n",
       "      <td>15</td>\n",
       "    </tr>\n",
       "    <tr>\n",
       "      <th>3</th>\n",
       "      <td>U004</td>\n",
       "      <td>David Brown</td>\n",
       "      <td>27</td>\n",
       "      <td>San Francisco</td>\n",
       "      <td>2023-04-05</td>\n",
       "      <td>444-333-2222</td>\n",
       "      <td>david@email.com</td>\n",
       "      <td>Dinner</td>\n",
       "      <td>10</td>\n",
       "    </tr>\n",
       "    <tr>\n",
       "      <th>4</th>\n",
       "      <td>U005</td>\n",
       "      <td>Emma White</td>\n",
       "      <td>30</td>\n",
       "      <td>Seattle</td>\n",
       "      <td>2023-05-22</td>\n",
       "      <td>777-888-9999</td>\n",
       "      <td>emma@email.com</td>\n",
       "      <td>Lunch</td>\n",
       "      <td>9</td>\n",
       "    </tr>\n",
       "    <tr>\n",
       "      <th>5</th>\n",
       "      <td>U006</td>\n",
       "      <td>Frank Green</td>\n",
       "      <td>25</td>\n",
       "      <td>Austin</td>\n",
       "      <td>2023-06-15</td>\n",
       "      <td>888-777-6666</td>\n",
       "      <td>frank@email.com</td>\n",
       "      <td>Dinner</td>\n",
       "      <td>7</td>\n",
       "    </tr>\n",
       "    <tr>\n",
       "      <th>6</th>\n",
       "      <td>U007</td>\n",
       "      <td>Grace King</td>\n",
       "      <td>38</td>\n",
       "      <td>Boston</td>\n",
       "      <td>2023-07-02</td>\n",
       "      <td>999-888-7777</td>\n",
       "      <td>grace@email.com</td>\n",
       "      <td>Breakfast</td>\n",
       "      <td>14</td>\n",
       "    </tr>\n",
       "    <tr>\n",
       "      <th>7</th>\n",
       "      <td>U008</td>\n",
       "      <td>Henry Lee</td>\n",
       "      <td>31</td>\n",
       "      <td>Miami</td>\n",
       "      <td>2023-08-11</td>\n",
       "      <td>101-202-3030</td>\n",
       "      <td>henry@email.com</td>\n",
       "      <td>Dinner</td>\n",
       "      <td>5</td>\n",
       "    </tr>\n",
       "    <tr>\n",
       "      <th>8</th>\n",
       "      <td>U009</td>\n",
       "      <td>Irene Moore</td>\n",
       "      <td>33</td>\n",
       "      <td>Dallas</td>\n",
       "      <td>2023-09-01</td>\n",
       "      <td>202-303-4040</td>\n",
       "      <td>irene@email.com</td>\n",
       "      <td>Lunch</td>\n",
       "      <td>6</td>\n",
       "    </tr>\n",
       "    <tr>\n",
       "      <th>9</th>\n",
       "      <td>U010</td>\n",
       "      <td>Jack White</td>\n",
       "      <td>29</td>\n",
       "      <td>Phoenix</td>\n",
       "      <td>2023-10-10</td>\n",
       "      <td>303-404-5050</td>\n",
       "      <td>jack@email.com</td>\n",
       "      <td>Dinner</td>\n",
       "      <td>8</td>\n",
       "    </tr>\n",
       "  </tbody>\n",
       "</table>\n",
       "</div>"
      ],
      "text/plain": [
       "  User ID      User Name  Age       Location Registration Date         Phone  \\\n",
       "0    U001  Alice Johnson   28       New York        2023-01-15  123-456-7890   \n",
       "1    U002      Bob Smith   35    Los Angeles        2023-02-20  987-654-3210   \n",
       "2    U003    Charlie Lee   42        Chicago        2023-03-10  555-123-4567   \n",
       "3    U004    David Brown   27  San Francisco        2023-04-05  444-333-2222   \n",
       "4    U005     Emma White   30        Seattle        2023-05-22  777-888-9999   \n",
       "5    U006    Frank Green   25         Austin        2023-06-15  888-777-6666   \n",
       "6    U007     Grace King   38         Boston        2023-07-02  999-888-7777   \n",
       "7    U008      Henry Lee   31          Miami        2023-08-11  101-202-3030   \n",
       "8    U009    Irene Moore   33         Dallas        2023-09-01  202-303-4040   \n",
       "9    U010     Jack White   29        Phoenix        2023-10-10  303-404-5050   \n",
       "\n",
       "               Email Favorite Meal  Total Orders  \n",
       "0    alice@email.com        Dinner            12  \n",
       "1      bob@email.com         Lunch             8  \n",
       "2  charlie@email.com     Breakfast            15  \n",
       "3    david@email.com        Dinner            10  \n",
       "4     emma@email.com         Lunch             9  \n",
       "5    frank@email.com        Dinner             7  \n",
       "6    grace@email.com     Breakfast            14  \n",
       "7    henry@email.com        Dinner             5  \n",
       "8    irene@email.com         Lunch             6  \n",
       "9     jack@email.com        Dinner             8  "
      ]
     },
     "execution_count": 2,
     "metadata": {},
     "output_type": "execute_result"
    }
   ],
   "source": [
    "Excel_sheet = pd.read_excel(r'/Users/manjunathmaktal/Downloads/Data Analyst Intern Assignment - Excel.xlsx')\n",
    "Excel_sheet"
   ]
  },
  {
   "cell_type": "code",
   "execution_count": 3,
   "id": "9f5ab988-8c0f-42f4-84d3-691fb4dc0508",
   "metadata": {},
   "outputs": [
    {
     "data": {
      "text/plain": [
       "{'UserDetails.csv':   User ID      User Name  Age       Location Registration Date         Phone  \\\n",
       " 0    U001  Alice Johnson   28       New York        2023-01-15  123-456-7890   \n",
       " 1    U002      Bob Smith   35    Los Angeles        2023-02-20  987-654-3210   \n",
       " 2    U003    Charlie Lee   42        Chicago        2023-03-10  555-123-4567   \n",
       " 3    U004    David Brown   27  San Francisco        2023-04-05  444-333-2222   \n",
       " 4    U005     Emma White   30        Seattle        2023-05-22  777-888-9999   \n",
       " 5    U006    Frank Green   25         Austin        2023-06-15  888-777-6666   \n",
       " 6    U007     Grace King   38         Boston        2023-07-02  999-888-7777   \n",
       " 7    U008      Henry Lee   31          Miami        2023-08-11  101-202-3030   \n",
       " 8    U009    Irene Moore   33         Dallas        2023-09-01  202-303-4040   \n",
       " 9    U010     Jack White   29        Phoenix        2023-10-10  303-404-5050   \n",
       " \n",
       "                Email Favorite Meal  Total Orders  \n",
       " 0    alice@email.com        Dinner            12  \n",
       " 1      bob@email.com         Lunch             8  \n",
       " 2  charlie@email.com     Breakfast            15  \n",
       " 3    david@email.com        Dinner            10  \n",
       " 4     emma@email.com         Lunch             9  \n",
       " 5    frank@email.com        Dinner             7  \n",
       " 6    grace@email.com     Breakfast            14  \n",
       " 7    henry@email.com        Dinner             5  \n",
       " 8    irene@email.com         Lunch             6  \n",
       " 9     jack@email.com        Dinner             8  ,\n",
       " 'CookingSessions.csv':    Session ID User ID        Dish Name  Meal Type       Session Start  \\\n",
       " 0        S001    U001        Spaghetti     Dinner 2024-12-01 19:00:00   \n",
       " 1        S002    U002     Caesar Salad      Lunch 2024-12-01 12:00:00   \n",
       " 2        S003    U003  Grilled Chicken     Dinner 2024-12-02 19:30:00   \n",
       " 3        S004    U001         Pancakes  Breakfast 2024-12-02 07:30:00   \n",
       " 4        S005    U004     Caesar Salad      Lunch 2024-12-03 13:00:00   \n",
       " 5        S006    U002        Spaghetti     Dinner 2024-12-03 18:30:00   \n",
       " 6        S007    U005  Grilled Chicken     Dinner 2024-12-04 18:00:00   \n",
       " 7        S008    U003    Veggie Burger      Lunch 2024-12-04 13:30:00   \n",
       " 8        S009    U001  Grilled Chicken     Dinner 2024-12-05 19:00:00   \n",
       " 9        S010    U002          Oatmeal  Breakfast 2024-12-05 07:00:00   \n",
       " 10       S011    U003         Pancakes  Breakfast 2024-12-06 08:00:00   \n",
       " 11       S012    U004        Spaghetti     Dinner 2024-12-06 19:00:00   \n",
       " 12       S013    U005     Caesar Salad      Lunch 2024-12-07 12:30:00   \n",
       " 13       S014    U006  Grilled Chicken     Dinner 2024-12-07 18:00:00   \n",
       " 14       S015    U007        Spaghetti     Dinner 2024-12-08 19:30:00   \n",
       " 15       S016    U008    Veggie Burger      Lunch 2024-12-08 13:30:00   \n",
       " \n",
       "            Session End  Duration (mins)  Session Rating  \n",
       " 0  2024-12-01 19:30:00               30             4.5  \n",
       " 1  2024-12-01 12:20:00               20             4.0  \n",
       " 2  2024-12-02 20:10:00               40             4.8  \n",
       " 3  2024-12-02 08:00:00               30             4.2  \n",
       " 4  2024-12-03 13:15:00               15             4.7  \n",
       " 5  2024-12-03 19:00:00               30             4.3  \n",
       " 6  2024-12-04 18:45:00               45             4.6  \n",
       " 7  2024-12-04 13:50:00               20             4.4  \n",
       " 8  2024-12-05 19:40:00               40             4.9  \n",
       " 9  2024-12-05 07:10:00               10             4.1  \n",
       " 10 2024-12-06 08:30:00               30             4.6  \n",
       " 11 2024-12-06 19:40:00               40             4.7  \n",
       " 12 2024-12-07 13:00:00               30             4.4  \n",
       " 13 2024-12-07 18:45:00               45             4.8  \n",
       " 14 2024-12-08 20:10:00               40             5.0  \n",
       " 15 2024-12-08 13:50:00               20             4.3  ,\n",
       " 'OrderDetails.csv':     Order ID User ID Order Date  Meal Type        Dish Name Order Status  \\\n",
       " 0       1001    U001 2024-12-01     Dinner        Spaghetti    Completed   \n",
       " 1       1002    U002 2024-12-01      Lunch     Caesar Salad    Completed   \n",
       " 2       1003    U003 2024-12-02     Dinner  Grilled Chicken     Canceled   \n",
       " 3       1004    U001 2024-12-02  Breakfast         Pancakes    Completed   \n",
       " 4       1005    U004 2024-12-03      Lunch     Caesar Salad    Completed   \n",
       " 5       1006    U002 2024-12-03     Dinner        Spaghetti    Completed   \n",
       " 6       1007    U005 2024-12-04     Dinner  Grilled Chicken    Completed   \n",
       " 7       1008    U003 2024-12-04      Lunch    Veggie Burger     Canceled   \n",
       " 8       1009    U001 2024-12-05     Dinner  Grilled Chicken    Completed   \n",
       " 9       1010    U002 2024-12-05  Breakfast          Oatmeal    Completed   \n",
       " 10      1011    U003 2024-12-06  Breakfast         Pancakes    Completed   \n",
       " 11      1012    U004 2024-12-06     Dinner        Spaghetti    Completed   \n",
       " 12      1013    U005 2024-12-07      Lunch     Caesar Salad    Completed   \n",
       " 13      1014    U006 2024-12-07     Dinner  Grilled Chicken    Completed   \n",
       " 14      1015    U007 2024-12-08     Dinner        Spaghetti    Completed   \n",
       " 15      1016    U008 2024-12-08      Lunch    Veggie Burger    Completed   \n",
       " \n",
       "     Amount (USD) Time of Day  Rating Session ID  \n",
       " 0           15.0       Night     5.0       S001  \n",
       " 1           10.0         Day     4.0       S002  \n",
       " 2           12.5       Night     NaN       S003  \n",
       " 3            8.0     Morning     4.0       S004  \n",
       " 4            9.0         Day     4.0       S005  \n",
       " 5           14.0       Night     4.0       S006  \n",
       " 6           13.5       Night     4.0       S007  \n",
       " 7           11.0         Day     NaN       S008  \n",
       " 8           12.0       Night     5.0       S009  \n",
       " 9            7.0     Morning     4.0       S010  \n",
       " 10           8.5     Morning     4.0       S011  \n",
       " 11          12.5       Night     4.0       S012  \n",
       " 12           9.0         Day     4.0       S013  \n",
       " 13          13.0       Night     5.0       S014  \n",
       " 14          14.0       Night     5.0       S015  \n",
       " 15          11.0         Day     4.0       S016  }"
      ]
     },
     "execution_count": 3,
     "metadata": {},
     "output_type": "execute_result"
    }
   ],
   "source": [
    "sheets = pd.read_excel('Data Analyst Intern Assignment - Excel.xlsx', sheet_name=None)\n",
    "sheets"
   ]
  },
  {
   "cell_type": "code",
   "execution_count": 43,
   "id": "50f74432-d0db-4303-8334-73045fff365a",
   "metadata": {},
   "outputs": [],
   "source": [
    "order_details = sheets['OrderDetails.csv'] \n",
    "user_details = sheets['UserDetails.csv']\n",
    "cooking_sessions = sheets['CookingSessions.csv']"
   ]
  },
  {
   "cell_type": "code",
   "execution_count": 5,
   "id": "cd1d90af-ef44-460a-91ae-06308c0bf9a5",
   "metadata": {},
   "outputs": [
    {
     "name": "stdout",
     "output_type": "stream",
     "text": [
      "User ID              0\n",
      "User Name            0\n",
      "Age                  0\n",
      "Location             0\n",
      "Registration Date    0\n",
      "Phone                0\n",
      "Email                0\n",
      "Favorite Meal        0\n",
      "Total Orders         0\n",
      "dtype: int64\n",
      "Session ID         0\n",
      "User ID            0\n",
      "Dish Name          0\n",
      "Meal Type          0\n",
      "Session Start      0\n",
      "Session End        0\n",
      "Duration (mins)    0\n",
      "Session Rating     0\n",
      "dtype: int64\n",
      "Order ID        0\n",
      "User ID         0\n",
      "Order Date      0\n",
      "Meal Type       0\n",
      "Dish Name       0\n",
      "Order Status    0\n",
      "Amount (USD)    0\n",
      "Time of Day     0\n",
      "Rating          2\n",
      "Session ID      0\n",
      "dtype: int64\n"
     ]
    }
   ],
   "source": [
    "print(user_details.isnull().sum())\n",
    "print(cooking_sessions.isnull().sum())\n",
    "print(order_details.isnull().sum())"
   ]
  },
  {
   "cell_type": "code",
   "execution_count": 6,
   "id": "c9b8d08e-b3f4-4124-a259-6a155cf5ab66",
   "metadata": {},
   "outputs": [
    {
     "name": "stdout",
     "output_type": "stream",
     "text": [
      "User ID              0\n",
      "User Name            0\n",
      "Age                  0\n",
      "Location             0\n",
      "Registration Date    0\n",
      "Phone                0\n",
      "Email                0\n",
      "Favorite Meal        0\n",
      "Total Orders         0\n",
      "dtype: int64\n",
      "Session ID         0\n",
      "User ID            0\n",
      "Dish Name          0\n",
      "Meal Type          0\n",
      "Session Start      0\n",
      "Session End        0\n",
      "Duration (mins)    0\n",
      "Session Rating     0\n",
      "dtype: int64\n",
      "Order ID        0\n",
      "User ID         0\n",
      "Order Date      0\n",
      "Meal Type       0\n",
      "Dish Name       0\n",
      "Order Status    0\n",
      "Amount (USD)    0\n",
      "Time of Day     0\n",
      "Rating          0\n",
      "Session ID      0\n",
      "dtype: int64\n"
     ]
    }
   ],
   "source": [
    "order_details = order_details.dropna(subset=['Rating'])\n",
    "print(user_details.isnull().sum())\n",
    "print(cooking_sessions.isnull().sum())\n",
    "print(order_details.isnull().sum())"
   ]
  },
  {
   "cell_type": "code",
   "execution_count": 7,
   "id": "be84e334-9c38-4de8-a9cb-662b4bc7f040",
   "metadata": {},
   "outputs": [
    {
     "name": "stdout",
     "output_type": "stream",
     "text": [
      "  User ID      User Name  Age  Location Registration Date         Phone  \\\n",
      "0    U001  Alice Johnson   28  New York        2023-01-15  123-456-7890   \n",
      "1    U001  Alice Johnson   28  New York        2023-01-15  123-456-7890   \n",
      "2    U001  Alice Johnson   28  New York        2023-01-15  123-456-7890   \n",
      "3    U001  Alice Johnson   28  New York        2023-01-15  123-456-7890   \n",
      "4    U001  Alice Johnson   28  New York        2023-01-15  123-456-7890   \n",
      "\n",
      "             Email Favorite Meal  Total Orders Session ID_x  ...  \\\n",
      "0  alice@email.com        Dinner            12         S001  ...   \n",
      "1  alice@email.com        Dinner            12         S001  ...   \n",
      "2  alice@email.com        Dinner            12         S001  ...   \n",
      "3  alice@email.com        Dinner            12         S004  ...   \n",
      "4  alice@email.com        Dinner            12         S004  ...   \n",
      "\n",
      "  Session Rating Order ID Order Date Meal Type_y      Dish Name_y  \\\n",
      "0            4.5   1001.0 2024-12-01      Dinner        Spaghetti   \n",
      "1            4.5   1004.0 2024-12-02   Breakfast         Pancakes   \n",
      "2            4.5   1009.0 2024-12-05      Dinner  Grilled Chicken   \n",
      "3            4.2   1001.0 2024-12-01      Dinner        Spaghetti   \n",
      "4            4.2   1004.0 2024-12-02   Breakfast         Pancakes   \n",
      "\n",
      "   Order Status  Amount (USD) Time of Day Rating Session ID_y  \n",
      "0     Completed          15.0       Night    5.0         S001  \n",
      "1     Completed           8.0     Morning    4.0         S004  \n",
      "2     Completed          12.0       Night    5.0         S009  \n",
      "3     Completed          15.0       Night    5.0         S001  \n",
      "4     Completed           8.0     Morning    4.0         S004  \n",
      "\n",
      "[5 rows x 25 columns]\n"
     ]
    }
   ],
   "source": [
    "merged_data = pd.merge(user_details, cooking_sessions, on='User ID', how='left')\n",
    "merged_data = pd.merge(merged_data, order_details, on='User ID', how='left')\n",
    "print(merged_data.head())"
   ]
  },
  {
   "cell_type": "code",
   "execution_count": 8,
   "id": "145509f3-1334-4263-aa2e-0006cac4061b",
   "metadata": {},
   "outputs": [
    {
     "name": "stdout",
     "output_type": "stream",
     "text": [
      "Time of Day\n",
      "Day         9.750000\n",
      "Morning     7.833333\n",
      "Night      13.428571\n",
      "Name: Amount (USD), dtype: float64\n"
     ]
    }
   ],
   "source": [
    "# Calculate the average Amount by time of day\n",
    "average_Amount_by_location = order_details.groupby('Time of Day')['Amount (USD)'].mean()\n",
    "print(average_Amount_by_location)"
   ]
  },
  {
   "cell_type": "code",
   "execution_count": 9,
   "id": "1fdcac6b-db9d-43f7-84a0-9a9dcb713e97",
   "metadata": {},
   "outputs": [],
   "source": [
    "# Convert date columns to datetime format\n",
    "user_details['Registration Date'] = pd.to_datetime(user_details['Registration Date'])\n",
    "cooking_sessions['Session Start'] = pd.to_datetime(cooking_sessions[ 'Session Start'])\n",
    "order_details['Order Date'] = pd.to_datetime(order_details['Order Date'])\n",
    "cooking_sessions['Session End'] = pd.to_datetime(cooking_sessions[ 'Session End'])"
   ]
  },
  {
   "cell_type": "code",
   "execution_count": 10,
   "id": "239700bf-2406-458f-bcf0-469889beff76",
   "metadata": {},
   "outputs": [],
   "source": [
    "user_details = user_details.drop_duplicates()\n",
    "cooking_sessions = cooking_sessions.drop_duplicates()\n",
    "order_details = order_details.drop_duplicates()"
   ]
  },
  {
   "cell_type": "code",
   "execution_count": 11,
   "id": "82f640db-4d3b-4d42-8e02-50e869d6c405",
   "metadata": {},
   "outputs": [
    {
     "name": "stdout",
     "output_type": "stream",
     "text": [
      "             Age              Registration Date  Total Orders  \\\n",
      "count  34.000000                             34     34.000000   \n",
      "mean   31.676471  2023-03-24 18:21:10.588235264     10.029412   \n",
      "min    25.000000            2023-01-15 00:00:00      5.000000   \n",
      "25%    28.000000            2023-01-24 00:00:00      8.000000   \n",
      "50%    30.000000            2023-02-20 00:00:00      9.500000   \n",
      "75%    35.000000            2023-05-10 06:00:00     12.000000   \n",
      "max    42.000000            2023-10-10 00:00:00     15.000000   \n",
      "std     4.714392                            NaN      2.587678   \n",
      "\n",
      "             Session Start                    Session End  Duration (mins)  \\\n",
      "count                   32                             32        32.000000   \n",
      "mean   2024-12-04 13:03:45  2024-12-04 13:32:58.124999936        29.218750   \n",
      "min    2024-12-01 12:00:00            2024-12-01 12:20:00        10.000000   \n",
      "25%    2024-12-02 07:30:00            2024-12-02 08:00:00        20.000000   \n",
      "50%    2024-12-04 15:45:00            2024-12-04 16:17:30        30.000000   \n",
      "75%    2024-12-05 22:15:00            2024-12-05 22:52:30        40.000000   \n",
      "max    2024-12-08 19:30:00            2024-12-08 20:10:00        45.000000   \n",
      "std                    NaN                            NaN        10.633891   \n",
      "\n",
      "       Session Rating     Order ID           Order Date  Amount (USD)  \\\n",
      "count       32.000000    32.000000                   32     32.000000   \n",
      "mean         4.459375  1007.750000  2024-12-04 03:00:00     10.921875   \n",
      "min          4.000000  1001.000000  2024-12-01 00:00:00      7.000000   \n",
      "25%          4.200000  1004.000000  2024-12-02 00:00:00      8.500000   \n",
      "50%          4.450000  1008.000000  2024-12-04 12:00:00     10.500000   \n",
      "75%          4.700000  1011.000000  2024-12-06 00:00:00     13.500000   \n",
      "max          5.000000  1016.000000  2024-12-08 00:00:00     15.000000   \n",
      "std          0.297147     4.421356                  NaN      2.667333   \n",
      "\n",
      "          Rating  \n",
      "count  32.000000  \n",
      "mean    4.250000  \n",
      "min     4.000000  \n",
      "25%     4.000000  \n",
      "50%     4.000000  \n",
      "75%     4.250000  \n",
      "max     5.000000  \n",
      "std     0.439941  \n"
     ]
    }
   ],
   "source": [
    "# Basic statistics for numeric columns\n",
    "print(merged_data.describe())"
   ]
  },
  {
   "cell_type": "code",
   "execution_count": 12,
   "id": "35817678-e647-4597-8662-fa35ee5e6d75",
   "metadata": {},
   "outputs": [
    {
     "name": "stdout",
     "output_type": "stream",
     "text": [
      "Time of Day\n",
      "Night      15\n",
      "Morning     9\n",
      "Day         8\n",
      "Name: count, dtype: int64\n",
      "Location\n",
      "New York         9\n",
      "Los Angeles      9\n",
      "San Francisco    4\n",
      "Seattle          4\n",
      "Chicago          3\n",
      "Austin           1\n",
      "Boston           1\n",
      "Miami            1\n",
      "Dallas           1\n",
      "Phoenix          1\n",
      "Name: count, dtype: int64\n"
     ]
    }
   ],
   "source": [
    "# Check the distribution of categorical variables \n",
    "print(merged_data['Time of Day'].value_counts())\n",
    "print(merged_data['Location'].value_counts())"
   ]
  },
  {
   "cell_type": "code",
   "execution_count": 13,
   "id": "782fd093-d6d0-4f69-8e38-ad67c8da0e35",
   "metadata": {},
   "outputs": [
    {
     "data": {
      "image/png": "[encoded data removed]",
      "text/plain": [
       "<Figure size 640x480 with 1 Axes>"
      ]
     },
     "metadata": {},
     "output_type": "display_data"
    }
   ],
   "source": [
    "# Group by user demographics and Amount\n",
    "order_value_by_age = merged_data.groupby('Age')['Amount (USD)'].mean()\n",
    "order_value_by_location = merged_data.groupby('Location')['Amount (USD)'].mean()\n",
    "\n",
    "# Plot order value by Age\n",
    "import matplotlib.pyplot as plt\n",
    "order_value_by_age.plot(kind='bar')\n",
    "plt.title('Average Order Value by Age')\n",
    "plt.xlabel('Age')\n",
    "plt.ylabel('Average Order Value')\n",
    "plt.savefig('order_value_by_age.png')"
   ]
  },
  {
   "cell_type": "code",
   "execution_count": 14,
   "id": "07e0d014-5cfb-431c-b624-e76a34102d9e",
   "metadata": {},
   "outputs": [
    {
     "name": "stdout",
     "output_type": "stream",
     "text": [
      "Correlation between session duration and order value: 0.1683712935709062\n"
     ]
    }
   ],
   "source": [
    "# Correlation between cooking sessions and order values\n",
    "correlation = merged_data['Duration (mins)'].corr(merged_data['Amount (USD)'])\n",
    "print(f'Correlation between session duration and order value: {correlation}')"
   ]
  },
  {
   "cell_type": "code",
   "execution_count": 15,
   "id": "9d4b37db-85be-4c74-a429-0205607961a7",
   "metadata": {},
   "outputs": [
    {
     "name": "stdout",
     "output_type": "stream",
     "text": [
      "Dish Name_y\n",
      "Spaghetti          9\n",
      "Caesar Salad       7\n",
      "Pancakes           6\n",
      "Grilled Chicken    6\n",
      "Oatmeal            3\n",
      "Veggie Burger      1\n",
      "Name: count, dtype: int64\n"
     ]
    },
    {
     "data": {
      "image/png": "[encoded data removed]",
      "text/plain": [
       "<Figure size 640x480 with 1 Axes>"
      ]
     },
     "metadata": {},
     "output_type": "display_data"
    }
   ],
   "source": [
    "\n",
    "popular_dishes = merged_data['Dish Name_y'].value_counts().head(10)\n",
    "print(popular_dishes)\n",
    "\n",
    "popular_dishes.plot(kind='bar')\n",
    "plt.title('Top 10 Most Popular Dishes')\n",
    "plt.xlabel('Dish Name_y')\n",
    "plt.ylabel('Number of Times Cooked')\n",
    "plt.savefig('dish_popularity.png')"
   ]
  },
  {
   "cell_type": "code",
   "execution_count": 16,
   "id": "68dcb5d6-af54-44fe-be92-b26ab67533d8",
   "metadata": {},
   "outputs": [
    {
     "data": {
      "image/png": "[encoded data removed]",
      "text/plain": [
       "<Figure size 640x480 with 2 Axes>"
      ]
     },
     "metadata": {},
     "output_type": "display_data"
    }
   ],
   "source": [
    "import seaborn as sns\n",
    "corr = merged_data[['Amount (USD)','Duration (mins)','Age']].corr()\n",
    "sns.heatmap(corr, annot=True, cmap='coolwarm')\n",
    "plt.title('Correlation Heatmap')\n",
    "plt.savefig('correlation_heatmap.png')"
   ]
  },
  {
   "cell_type": "code",
   "execution_count": null,
   "id": "a5dc34ec-d617-4c4a-87a3-570dca9950aa",
   "metadata": {},
   "outputs": [],
   "source": []
  },
  {
   "cell_type": "code",
   "execution_count": null,
   "id": "dcc4f11d-a601-4ad8-b371-231253144d21",
   "metadata": {},
   "outputs": [],
   "source": []
  },
  {
   "cell_type": "code",
   "execution_count": null,
   "id": "484fed59-a45b-4727-bf38-dc76e25d59fc",
   "metadata": {},
   "outputs": [],
   "source": []
  },
  {
   "cell_type": "code",
   "execution_count": null,
   "id": "6e811dc7-c173-478d-85e8-c519d32888ae",
   "metadata": {},
   "outputs": [],
   "source": []
  },
  {
   "cell_type": "code",
   "execution_count": null,
   "id": "5708a269-a34f-4a66-9527-f781f41dfb17",
   "metadata": {},
   "outputs": [],
   "source": []
  },
  {
   "cell_type": "code",
   "execution_count": null,
   "id": "2db54cda-1130-469e-bee0-dc735cbdc6bd",
   "metadata": {},
   "outputs": [],
   "source": []
  },
  {
   "cell_type": "code",
   "execution_count": null,
   "id": "f1ffea9c-2118-4299-b8c0-0101becbe419",
   "metadata": {},
   "outputs": [],
   "source": []
  },
  {
   "cell_type": "code",
   "execution_count": null,
   "id": "37804c2b-3d8f-4a4c-86ef-6b760c38b561",
   "metadata": {},
   "outputs": [],
   "source": []
  }
 ],
 "metadata": {
  "kernelspec": {
   "display_name": "Python 3 (ipykernel)",
   "language": "python",
   "name": "python3"
  },
  "language_info": {
   "codemirror_mode": {
    "name": "ipython",
    "version": 3
   },
   "file_extension": ".py",
   "mimetype": "text/x-python",
   "name": "python",
   "nbconvert_exporter": "python",
   "pygments_lexer": "ipython3",
   "version": "3.12.4"
  }
 },
 "nbformat": 4,
 "nbformat_minor": 5
}
